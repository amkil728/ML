{
 "cells": [
  {
   "cell_type": "code",
   "execution_count": 3,
   "id": "e7e81f6b",
   "metadata": {},
   "outputs": [],
   "source": [
    "import numpy as np"
   ]
  },
  {
   "cell_type": "code",
   "execution_count": 8,
   "id": "acc6fc3a",
   "metadata": {},
   "outputs": [],
   "source": [
    "def minimise_1d(f, loss_fn, x, lr=0.01, max_iter=1000, eps=0.001):\n",
    "    xs = [x]\n",
    "    losses = []\n",
    "    \n",
    "    for i in range(max_iter):\n",
    "        loss = loss_fn(x)\n",
    "        losses.append(loss)\n",
    "        \n",
    "        if abs(loss) <= eps:\n",
    "            break\n",
    "        \n",
    "        x -= lr * loss\n",
    "        \n",
    "        if abs(x - xs[-1]) <= eps:\n",
    "            break\n",
    "        \n",
    "        xs.append(x)\n",
    "        \n",
    "    return xs, losses"
   ]
  },
  {
   "cell_type": "code",
   "execution_count": 113,
   "id": "58f0dd8b",
   "metadata": {},
   "outputs": [],
   "source": [
    "def minimise(f, df, x, lr=0.01, max_iter=1000, eps=0.001):\n",
    "    xs = [x]\n",
    "    grads = []\n",
    "    \n",
    "    for i in range(max_iter):\n",
    "        grad = df(x)\n",
    "        grads.append(grad)\n",
    "        \n",
    "        if np.linalg.norm(grad) <= eps:\n",
    "            break\n",
    "            \n",
    "        x = xs[-1] - grad * lr\n",
    "#         print(x)\n",
    "        \n",
    "        if abs(f(x) - f(xs[-1])) <= eps:\n",
    "#             print(\"delta f(x):\", abs(f(x) - f(xs[-1])))\n",
    "            break\n",
    "        \n",
    "        xs.append(x)\n",
    "        \n",
    "    return xs, grads    "
   ]
  },
  {
   "cell_type": "code",
   "execution_count": 117,
   "id": "856f18e8",
   "metadata": {},
   "outputs": [],
   "source": [
    "f = lambda x: (x[0] - 200)**2 + (x[1] - 3)**2 + 10\n",
    "loss_fn = lambda x: 2 * (x - np.array([200,3]))"
   ]
  },
  {
   "cell_type": "code",
   "execution_count": 182,
   "id": "4082d05f",
   "metadata": {},
   "outputs": [
    {
     "name": "stdout",
     "output_type": "stream",
     "text": [
      "delta f(x): 9.70810900113861e-07\n"
     ]
    }
   ],
   "source": [
    "xs, grads = minimise(f, loss_fn, np.array([0,0]), eps=1e-6, lr=0.01, max_iter=10_000)"
   ]
  },
  {
   "cell_type": "code",
   "execution_count": 5,
   "id": "8ce1c597",
   "metadata": {},
   "outputs": [],
   "source": [
    "rng = np.random.default_rng(seed=1234)"
   ]
  },
  {
   "cell_type": "code",
   "execution_count": 6,
   "id": "38853a8d",
   "metadata": {},
   "outputs": [],
   "source": [
    "n, p = 1000, 1"
   ]
  },
  {
   "cell_type": "code",
   "execution_count": 90,
   "id": "7a19239d",
   "metadata": {},
   "outputs": [],
   "source": [
    "X = np.random.normal(scale=5.0, size=(n,1))"
   ]
  },
  {
   "cell_type": "code",
   "execution_count": 92,
   "id": "90ee893b",
   "metadata": {},
   "outputs": [],
   "source": [
    "mat = np.hstack([np.ones((n,1)), X])"
   ]
  },
  {
   "cell_type": "code",
   "execution_count": 93,
   "id": "a206fa6a",
   "metadata": {},
   "outputs": [],
   "source": [
    "eps = rng.normal(size=1000)"
   ]
  },
  {
   "cell_type": "code",
   "execution_count": 94,
   "id": "69afe981",
   "metadata": {},
   "outputs": [],
   "source": [
    "# beta = np.array([3.0, 1.5, 2.3])\n",
    "beta = np.array([3.0, 1.5])"
   ]
  },
  {
   "cell_type": "code",
   "execution_count": 95,
   "id": "51dfd01f",
   "metadata": {},
   "outputs": [],
   "source": [
    "y = mat.dot(beta) + eps"
   ]
  },
  {
   "cell_type": "code",
   "execution_count": 96,
   "id": "082d4702",
   "metadata": {},
   "outputs": [
    {
     "data": {
      "text/plain": [
       "0.9664482122568584"
      ]
     },
     "execution_count": 96,
     "metadata": {},
     "output_type": "execute_result"
    }
   ],
   "source": [
    "np.mean((y - mat.dot(beta))**2)"
   ]
  },
  {
   "cell_type": "code",
   "execution_count": 97,
   "id": "e9401bb9",
   "metadata": {},
   "outputs": [],
   "source": [
    "def MSE(beta, X, y):\n",
    "    preds = X.dot(beta)\n",
    "    return np.mean((y - preds)**2)"
   ]
  },
  {
   "cell_type": "code",
   "execution_count": 98,
   "id": "47bec35a",
   "metadata": {},
   "outputs": [
    {
     "data": {
      "text/plain": [
       "0.9664482122568584"
      ]
     },
     "execution_count": 98,
     "metadata": {},
     "output_type": "execute_result"
    }
   ],
   "source": [
    "MSE(beta, mat, y)"
   ]
  },
  {
   "cell_type": "code",
   "execution_count": 99,
   "id": "1747e601",
   "metadata": {},
   "outputs": [],
   "source": [
    "def MSE_grad(beta, X, y):\n",
    "    preds = X.dot(beta)\n",
    "    return 2 * (preds - y).dot(X)"
   ]
  },
  {
   "cell_type": "code",
   "execution_count": 66,
   "id": "22e7d1b3",
   "metadata": {},
   "outputs": [],
   "source": [
    "# X = np.array([[1.4,2.3],[1.2,1.7]])\n",
    "# X = np.hstack([np.ones((2,1)), X])\n",
    "# beta = np.array([1.2, 2.3, 2.6])\n",
    "# preds = X.dot(beta)\n",
    "# y = np.array([7.2,6.95])\n",
    "# (preds - y).dot(X)\n",
    "# sum(X[:,2] * (preds - y)), MSE_grad(beta, X, y), 1.4 * 3.2, 1.2 * 1.43"
   ]
  },
  {
   "cell_type": "code",
   "execution_count": 137,
   "id": "cf9341fb",
   "metadata": {
    "scrolled": false
   },
   "outputs": [
    {
     "name": "stdout",
     "output_type": "stream",
     "text": [
      "beta_min: [2.99332369 1.50547633]\n",
      "grad norm 0.09889053342759384\n"
     ]
    }
   ],
   "source": [
    "betas, grads = minimise(\n",
    "    lambda beta: MSE(beta, mat, y),\n",
    "    lambda beta: MSE_grad(beta, mat, y),\n",
    "    x=np.zeros(2), lr=1e-5, eps=1e-10, max_iter=100_000)\n",
    "print('beta_min:', betas[-1]) \n",
    "print('grad norm', np.linalg.norm(grads[-1]))"
   ]
  },
  {
   "cell_type": "code",
   "execution_count": null,
   "id": "847a47fc",
   "metadata": {},
   "outputs": [],
   "source": []
  },
  {
   "cell_type": "code",
   "execution_count": 118,
   "id": "3dc77b15",
   "metadata": {},
   "outputs": [
    {
     "data": {
      "text/plain": [
       "0.9656477179664247"
      ]
     },
     "execution_count": 118,
     "metadata": {},
     "output_type": "execute_result"
    }
   ],
   "source": [
    "MSE(betas[-1], mat, y)"
   ]
  },
  {
   "cell_type": "code",
   "execution_count": 129,
   "id": "49a52ca9",
   "metadata": {},
   "outputs": [
    {
     "data": {
      "text/plain": [
       "(array([-4.48974191e-13, -1.26719746e-11]), 1.2679925772652768e-11)"
      ]
     },
     "execution_count": 129,
     "metadata": {},
     "output_type": "execute_result"
    }
   ],
   "source": [
    "grad_beta_hat = MSE_grad(beta_hat, mat, y)\n",
    "grad_beta_hat, np.linalg.norm(grad_beta_hat)"
   ]
  },
  {
   "cell_type": "code",
   "execution_count": 133,
   "id": "bbc8ffb7",
   "metadata": {},
   "outputs": [
    {
     "data": {
      "text/plain": [
       "0.9656225353194862"
      ]
     },
     "execution_count": 133,
     "metadata": {},
     "output_type": "execute_result"
    }
   ],
   "source": [
    "MSE(beta_hat, mat, y)"
   ]
  },
  {
   "cell_type": "code",
   "execution_count": 136,
   "id": "b5facd32",
   "metadata": {},
   "outputs": [
    {
     "data": {
      "text/plain": [
       "array([-0.09888742, -0.00078416])"
      ]
     },
     "execution_count": 136,
     "metadata": {},
     "output_type": "execute_result"
    }
   ],
   "source": [
    "MSE_grad(betas[-1], mat, y)"
   ]
  },
  {
   "cell_type": "code",
   "execution_count": 105,
   "id": "1fee5acc",
   "metadata": {},
   "outputs": [
    {
     "data": {
      "text/plain": [
       "array([1.50547672])"
      ]
     },
     "execution_count": 105,
     "metadata": {},
     "output_type": "execute_result"
    }
   ],
   "source": [
    "beta_hat_1 = (y - np.mean(y)).dot(X - np.mean(X)) / np.sum((X - np.mean(X))**2)\n",
    "beta_hat_1"
   ]
  },
  {
   "cell_type": "code",
   "execution_count": 108,
   "id": "ee3a42b1",
   "metadata": {},
   "outputs": [
    {
     "data": {
      "text/plain": [
       "array([2.99337321])"
      ]
     },
     "execution_count": 108,
     "metadata": {},
     "output_type": "execute_result"
    }
   ],
   "source": [
    "beta_hat_0 = np.mean(y) - beta_hat_1 * np.mean(X)\n",
    "beta_hat_0"
   ]
  },
  {
   "cell_type": "code",
   "execution_count": 127,
   "id": "0e7ad48c",
   "metadata": {},
   "outputs": [
    {
     "data": {
      "text/plain": [
       "array([2.99337321, 1.50547672])"
      ]
     },
     "execution_count": 127,
     "metadata": {},
     "output_type": "execute_result"
    }
   ],
   "source": [
    "beta_hat = np.hstack([beta_hat_0, beta_hat_1])\n",
    "beta_hat"
   ]
  },
  {
   "cell_type": "code",
   "execution_count": 100,
   "id": "0438fcdb",
   "metadata": {},
   "outputs": [
    {
     "data": {
      "text/plain": [
       "(1000, 1000)"
      ]
     },
     "execution_count": 100,
     "metadata": {},
     "output_type": "execute_result"
    }
   ],
   "source": [
    "((X - np.mean(X)) * (y - np.mean(y))).shape"
   ]
  },
  {
   "cell_type": "code",
   "execution_count": 106,
   "id": "5ec0aebb",
   "metadata": {},
   "outputs": [
    {
     "data": {
      "text/plain": [
       "-0.19501978016962582"
      ]
     },
     "execution_count": 106,
     "metadata": {},
     "output_type": "execute_result"
    }
   ],
   "source": [
    "np.mean(X)"
   ]
  },
  {
   "cell_type": "code",
   "execution_count": 76,
   "id": "8f8a8b02",
   "metadata": {},
   "outputs": [
    {
     "data": {
      "text/plain": [
       "array([1.73801384])"
      ]
     },
     "execution_count": 76,
     "metadata": {},
     "output_type": "execute_result"
    }
   ],
   "source": [
    "(X[1] - np.mean(X)) * (y[1] - np.mean(y)) "
   ]
  },
  {
   "cell_type": "code",
   "execution_count": 80,
   "id": "23404228",
   "metadata": {},
   "outputs": [
    {
     "data": {
      "text/plain": [
       "(1000, 1)"
      ]
     },
     "execution_count": 80,
     "metadata": {},
     "output_type": "execute_result"
    }
   ],
   "source": [
    "(X - np.mean(X)).shape"
   ]
  },
  {
   "cell_type": "code",
   "execution_count": 81,
   "id": "2651e022",
   "metadata": {},
   "outputs": [
    {
     "data": {
      "text/plain": [
       "(1000,)"
      ]
     },
     "execution_count": 81,
     "metadata": {},
     "output_type": "execute_result"
    }
   ],
   "source": [
    "(y - np.mean(y)).shape"
   ]
  },
  {
   "cell_type": "code",
   "execution_count": null,
   "id": "e80b5915",
   "metadata": {},
   "outputs": [],
   "source": []
  },
  {
   "cell_type": "code",
   "execution_count": 78,
   "id": "a9c6be7c",
   "metadata": {},
   "outputs": [
    {
     "data": {
      "text/plain": [
       "(1000, 1)"
      ]
     },
     "execution_count": 78,
     "metadata": {},
     "output_type": "execute_result"
    }
   ],
   "source": [
    "X.shape"
   ]
  },
  {
   "cell_type": "code",
   "execution_count": 69,
   "id": "6538677b",
   "metadata": {},
   "outputs": [
    {
     "data": {
      "text/plain": [
       "26148.14366890816"
      ]
     },
     "execution_count": 69,
     "metadata": {},
     "output_type": "execute_result"
    }
   ],
   "source": [
    "np.sum((X - np.mean(X))**2)"
   ]
  },
  {
   "cell_type": "code",
   "execution_count": 70,
   "id": "51d015a8",
   "metadata": {},
   "outputs": [
    {
     "data": {
      "text/plain": [
       "1.018165896119345e-16"
      ]
     },
     "execution_count": 70,
     "metadata": {},
     "output_type": "execute_result"
    }
   ],
   "source": [
    "np.sum((X - np.mean(X)) * (y - np.mean(y))) / np.sum((X - np.mean(X))**2)"
   ]
  },
  {
   "cell_type": "code",
   "execution_count": 45,
   "id": "1fe25f93",
   "metadata": {},
   "outputs": [],
   "source": [
    "X = np.array([1.4,3.5])\n",
    "y = np.array([7.2,6.95])"
   ]
  },
  {
   "cell_type": "code",
   "execution_count": 49,
   "id": "a7428f4c",
   "metadata": {},
   "outputs": [
    {
     "data": {
      "text/plain": [
       "(array([-1.05,  1.05]), array([ 0.125, -0.125]))"
      ]
     },
     "execution_count": 49,
     "metadata": {},
     "output_type": "execute_result"
    }
   ],
   "source": [
    "X - np.mean(X), y - np.mean(y)"
   ]
  },
  {
   "cell_type": "code",
   "execution_count": 52,
   "id": "1c94602e",
   "metadata": {},
   "outputs": [
    {
     "data": {
      "text/plain": [
       "-0.2625"
      ]
     },
     "execution_count": 52,
     "metadata": {},
     "output_type": "execute_result"
    }
   ],
   "source": [
    "np.sum((X - np.mean(X)) * (y - np.mean(y)))"
   ]
  },
  {
   "cell_type": "code",
   "execution_count": 56,
   "id": "00634e5a",
   "metadata": {},
   "outputs": [
    {
     "data": {
      "text/plain": [
       "2.205"
      ]
     },
     "execution_count": 56,
     "metadata": {},
     "output_type": "execute_result"
    }
   ],
   "source": [
    "np.sum((X - np.mean(X))**2)"
   ]
  }
 ],
 "metadata": {
  "kernelspec": {
   "display_name": "Python 3 (ipykernel)",
   "language": "python",
   "name": "python3"
  },
  "language_info": {
   "codemirror_mode": {
    "name": "ipython",
    "version": 3
   },
   "file_extension": ".py",
   "mimetype": "text/x-python",
   "name": "python",
   "nbconvert_exporter": "python",
   "pygments_lexer": "ipython3",
   "version": "3.9.7"
  }
 },
 "nbformat": 4,
 "nbformat_minor": 5
}
